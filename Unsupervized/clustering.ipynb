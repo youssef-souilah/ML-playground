{
 "cells": [
  {
   "cell_type": "code",
   "execution_count": null,
   "id": "33e90765",
   "metadata": {},
   "outputs": [],
   "source": [
    "import pandas as pd\n",
    "import  matplotlib.pyplot as plt\n",
    "from sklearn.cluster import KMeans\n"
   ]
  },
  {
   "cell_type": "code",
   "execution_count": null,
   "id": "0e0b2317",
   "metadata": {},
   "outputs": [],
   "source": [
    "df=pd.read_csv('../datasets/LogisticRegression/cluster.csv')\n",
    "dfc=df.copy()\n",
    "df.drop('color')"
   ]
  }
 ],
 "metadata": {
  "language_info": {
   "name": "python"
  }
 },
 "nbformat": 4,
 "nbformat_minor": 5
}
